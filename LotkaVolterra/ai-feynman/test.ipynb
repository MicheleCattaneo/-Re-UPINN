{
 "cells": [
  {
   "cell_type": "markdown",
   "metadata": {},
   "source": [
    "# Compute MSE between Ai-feynman estimated coefficients and exact coefficients"
   ]
  },
  {
   "cell_type": "code",
   "execution_count": 1,
   "metadata": {},
   "outputs": [],
   "source": [
    "import torch\n",
    "import torch.nn as nn\n",
    "import matplotlib.pyplot as plt\n",
    "import numpy as np"
   ]
  },
  {
   "cell_type": "code",
   "execution_count": 2,
   "metadata": {},
   "outputs": [],
   "source": [
    "\"\"\"\n",
    "Lotka-Volterra and Apoptosis model: \n",
    "    one input for t followed by a scaling layer; 2 \n",
    "    hidden layers of 64 units for the surrogate \n",
    "    solution; 2 hidden layers of 16 units for the hidden \n",
    "    component approximation; sigmoid activation\n",
    "\"\"\"\n",
    "\n",
    "class ScalingLayer(nn.Module):\n",
    "    def __init__(self, scale_init_value=1e-2, bias_init_value=0):\n",
    "        super().__init__()\n",
    "        self.scale = nn.Parameter(torch.FloatTensor([scale_init_value]))\n",
    "        self.bias = nn.Parameter(torch.FloatTensor([bias_init_value]))\n",
    "\n",
    "    def forward(self, input):\n",
    "        return input * self.scale + self.bias\n",
    "    \n",
    "    \n",
    "class U(nn.Module):\n",
    "    def __init__(self, in_shape, out_shape, hidden_shapes):\n",
    "        super().__init__()\n",
    "        \n",
    "        self.layers = nn.ModuleList()\n",
    "        self.layers.append(ScalingLayer())\n",
    "        for hidden in hidden_shapes:\n",
    "            self.layers.append(nn.Linear(in_shape, hidden))\n",
    "            self.layers.append(nn.Sigmoid())\n",
    "            in_shape = hidden\n",
    "        self.layers.append(nn.Linear(hidden_shapes[-1], out_shape))\n",
    "        \n",
    "    def forward(self, x):\n",
    "        for layer in self.layers:\n",
    "            x = layer(x)\n",
    "        return x\n",
    "    \n",
    "class F(nn.Module):\n",
    "    def __init__(self, in_shape, out_shape, hidden_shapes):\n",
    "        super().__init__()\n",
    "        \n",
    "        self.layers = nn.ModuleList()\n",
    "        for hidden in hidden_shapes:\n",
    "            self.layers.append(nn.Linear(in_shape, hidden))\n",
    "            self.layers.append(nn.Sigmoid())\n",
    "            in_shape = hidden\n",
    "        self.layers.append(nn.Linear(hidden_shapes[-1], out_shape))\n",
    "        \n",
    "    def forward(self, x):\n",
    "        for layer in self.layers:\n",
    "            x = layer(x)\n",
    "        return x"
   ]
  },
  {
   "cell_type": "code",
   "execution_count": 3,
   "metadata": {},
   "outputs": [],
   "source": [
    "DEVICE = torch.device(\"cuda\") if torch.cuda.is_available() else torch.device(\"cpu\")"
   ]
  },
  {
   "cell_type": "code",
   "execution_count": 25,
   "metadata": {},
   "outputs": [],
   "source": [
    "\n",
    "def run(spacing, noise_level, f1_ai, f2_ai):\n",
    "    spacing_list = [\"0.1\", \"0.2\", \"0.3\", \"0.4\", \"0.5\", \"0.6\"]\n",
    "    noise_level_list = [\"0\", \"0.1\", \"0.01\", \"0.03\", \"0.05\", \"0.08\", \"0.008\"]\n",
    "    if spacing not in spacing_list or noise_level not in noise_level_list:\n",
    "        raise ValueError(\"Spacing or noise level not trained\")\n",
    "\n",
    "    # load model\n",
    "    upinn = U(1, 2, [64,64])\n",
    "    if noise_level == \"0\":\n",
    "        upinn.load_state_dict(torch.load(f\"../../upinn_models/LV/experiment_2/U_LV_exp2_sol_noise=0_space={spacing}.pt\", map_location=DEVICE))\n",
    "    else:\n",
    "        upinn.load_state_dict(torch.load(f\"../../upinn_models/LV/experiment_2/U_LV_exp2_sol_noise={noise_level}.pt\", map_location=DEVICE))\n",
    "    upinn.eval()\n",
    "    \n",
    "    t = torch.arange(0, 3, step=0.1).unsqueeze(1)\n",
    "\n",
    "    xy = upinn(t)\n",
    "    x, y = xy[:, 0].squeeze(), xy[:, 1].squeeze()\n",
    "\n",
    "    loss1 = None\n",
    "    loss2 = None\n",
    "    if f1_ai is not None:\n",
    "        loss1 = nn.MSELoss()(-0.9*x*y, x*y*f1_ai)\n",
    "    if f2_ai is not None:\n",
    "        loss2 = nn.MSELoss()(0.8*x*y, x*y*f2_ai)\n",
    "\n",
    "    print(loss1.item() if loss1 is not None else None, loss2.item() if loss2 is not None else None)  "
   ]
  },
  {
   "cell_type": "code",
   "execution_count": 28,
   "metadata": {},
   "outputs": [
    {
     "name": "stdout",
     "output_type": "stream",
     "text": [
      "1.8122815163224004e-05 None\n",
      "None 0.0006481666932813823\n",
      "3.454262332525104e-05 None\n",
      "2.942583705589641e-05 None\n",
      "None 0.0009660599171184003\n",
      "None None\n"
     ]
    }
   ],
   "source": [
    "# run(\"0.1\", \"0\", -0.895, 0.797)\n",
    "# run(\"0.2\", \"0\", -0.905, 0.812)\n",
    "# run(\"0.3\", \"0\", -0.906, 0.800)\n",
    "# run(\"0.4\", \"0\", -0.902, 0.802)\n",
    "# run(\"0.5\", \"0\", None, 0.803)\n",
    "# run(\"0.6\", \"0\", -0.902, 0.801)\n",
    "\n",
    "run(\"0.1\", \"0.008\", -0.908, None)\n",
    "run(\"0.1\", \"0.01\", None, 0.848)\n",
    "run(\"0.1\", \"0.03\", -0.911, None)\n",
    "run(\"0.1\", \"0.05\", -0.910, None)\n",
    "run(\"0.1\", \"0.08\", None, 0.857)\n",
    "run(\"0.1\", \"0.03\", None, None)"
   ]
  },
  {
   "cell_type": "code",
   "execution_count": null,
   "metadata": {},
   "outputs": [],
   "source": []
  }
 ],
 "metadata": {
  "kernelspec": {
   "display_name": ".venv",
   "language": "python",
   "name": "python3"
  },
  "language_info": {
   "codemirror_mode": {
    "name": "ipython",
    "version": 3
   },
   "file_extension": ".py",
   "mimetype": "text/x-python",
   "name": "python",
   "nbconvert_exporter": "python",
   "pygments_lexer": "ipython3",
   "version": "3.9.6"
  }
 },
 "nbformat": 4,
 "nbformat_minor": 2
}
