{
 "cells": [
  {
   "cell_type": "markdown",
   "metadata": {},
   "source": [
    "# Compute MSE between Ai-feynman estimated coefficients and exact coefficients"
   ]
  },
  {
   "cell_type": "code",
   "execution_count": 1,
   "metadata": {},
   "outputs": [],
   "source": [
    "import torch\n",
    "import torch.nn as nn\n",
    "import matplotlib.pyplot as plt\n",
    "import numpy as np"
   ]
  },
  {
   "cell_type": "code",
   "execution_count": 4,
   "metadata": {},
   "outputs": [],
   "source": [
    "\"\"\"\n",
    "Lotka-Volterra and Apoptosis model: \n",
    "    one input for t followed by a scaling layer; 2 \n",
    "    hidden layers of 64 units for the surrogate \n",
    "    solution; 2 hidden layers of 16 units for the hidden \n",
    "    component approximation; sigmoid activation\n",
    "\"\"\"\n",
    "\n",
    "class ScalingLayer(nn.Module):\n",
    "    def __init__(self, scale_init_value=1e-2, bias_init_value=0):\n",
    "        super().__init__()\n",
    "        self.scale = nn.Parameter(torch.FloatTensor([scale_init_value]))\n",
    "        self.bias = nn.Parameter(torch.FloatTensor([bias_init_value]))\n",
    "\n",
    "    def forward(self, input):\n",
    "        return input * self.scale + self.bias\n",
    "    \n",
    "    \n",
    "class U(nn.Module):\n",
    "    def __init__(self, in_shape, out_shape, hidden_shapes):\n",
    "        super().__init__()\n",
    "        \n",
    "        self.layers = nn.ModuleList()\n",
    "        self.layers.append(ScalingLayer())\n",
    "        for hidden in hidden_shapes:\n",
    "            self.layers.append(nn.Linear(in_shape, hidden))\n",
    "            self.layers.append(nn.Sigmoid())\n",
    "            in_shape = hidden\n",
    "        self.layers.append(nn.Linear(hidden_shapes[-1], out_shape))\n",
    "        \n",
    "    def forward(self, x):\n",
    "        for layer in self.layers:\n",
    "            x = layer(x)\n",
    "        return x\n",
    "    \n",
    "class F(nn.Module):\n",
    "    def __init__(self, in_shape, out_shape, hidden_shapes):\n",
    "        super().__init__()\n",
    "        \n",
    "        self.layers = nn.ModuleList()\n",
    "        for hidden in hidden_shapes:\n",
    "            self.layers.append(nn.Linear(in_shape, hidden))\n",
    "            self.layers.append(nn.Sigmoid())\n",
    "            in_shape = hidden\n",
    "        self.layers.append(nn.Linear(hidden_shapes[-1], out_shape))\n",
    "        \n",
    "    def forward(self, x):\n",
    "        for layer in self.layers:\n",
    "            x = layer(x)\n",
    "        return x"
   ]
  },
  {
   "cell_type": "code",
   "execution_count": 3,
   "metadata": {},
   "outputs": [],
   "source": [
    "DEVICE = torch.device(\"cuda\") if torch.cuda.is_available() else torch.device(\"cpu\")"
   ]
  },
  {
   "cell_type": "code",
   "execution_count": 25,
   "metadata": {},
   "outputs": [],
   "source": [
    "\n",
    "def run(spacing, noise_level, f1_ai, f2_ai):\n",
    "    spacing_list = [\"0.1\", \"0.2\", \"0.3\", \"0.4\", \"0.5\", \"0.6\"]\n",
    "    noise_level_list = [\"0\", \"0.1\", \"0.01\", \"0.03\", \"0.05\", \"0.08\", \"0.008\"]\n",
    "    if spacing not in spacing_list or noise_level not in noise_level_list:\n",
    "        raise ValueError(\"Spacing or noise level not trained\")\n",
    "\n",
    "    # load model\n",
    "    upinn = U(1, 2, [64,64])\n",
    "    if noise_level == \"0\":\n",
    "        upinn.load_state_dict(torch.load(f\"../../upinn_models/LV/U_LV_exp2_sol_noise=0_space={spacing}.pt\", map_location=DEVICE))\n",
    "    else:\n",
    "        upinn.load_state_dict(torch.load(f\"../../upinn_models/LV/U_LV_exp2_sol_noise={noise_level}.pt\", map_location=DEVICE))\n",
    "    upinn.eval()\n",
    "    \n",
    "    t = torch.arange(0, 3, step=0.1).unsqueeze(1)\n",
    "\n",
    "    xy = upinn(t)\n",
    "    x, y = xy[:, 0].squeeze(), xy[:, 1].squeeze()\n",
    "\n",
    "    loss1 = None\n",
    "    loss2 = None\n",
    "    if f1_ai is not None:\n",
    "        loss1 = nn.MSELoss()(-0.9*x*y, x*y*f1_ai)\n",
    "    if f2_ai is not None:\n",
    "        loss2 = nn.MSELoss()(0.8*x*y, x*y*f2_ai)\n",
    "\n",
    "    print(loss1.item() if loss1 is not None else None, loss2.item() if loss2 is not None else None)  "
   ]
  },
  {
   "cell_type": "code",
   "execution_count": 28,
   "metadata": {},
   "outputs": [
    {
     "name": "stdout",
     "output_type": "stream",
     "text": [
      "1.8122815163224004e-05 None\n",
      "None 0.0006481666932813823\n",
      "3.454262332525104e-05 None\n",
      "2.942583705589641e-05 None\n",
      "None 0.0009660599171184003\n",
      "None None\n"
     ]
    }
   ],
   "source": [
    "# run(\"0.1\", \"0\", -0.895, 0.797)\n",
    "# run(\"0.2\", \"0\", -0.905, 0.812)\n",
    "# run(\"0.3\", \"0\", -0.906, 0.800)\n",
    "# run(\"0.4\", \"0\", -0.902, 0.802)\n",
    "# run(\"0.5\", \"0\", None, 0.803)\n",
    "# run(\"0.6\", \"0\", -0.902, 0.801)\n",
    "\n",
    "run(\"0.1\", \"0.008\", -0.908, None)\n",
    "run(\"0.1\", \"0.01\", None, 0.848)\n",
    "run(\"0.1\", \"0.03\", -0.911, None)\n",
    "run(\"0.1\", \"0.05\", -0.910, None)\n",
    "run(\"0.1\", \"0.08\", None, 0.857)\n",
    "run(\"0.1\", \"0.03\", None, None)"
   ]
  },
  {
   "cell_type": "markdown",
   "metadata": {},
   "source": [
    "## Test best found equation vs. selected equation vs correct equation\n",
    "Let's consider the model trained on data with 0 noise and 0.1 spacing."
   ]
  },
  {
   "cell_type": "markdown",
   "metadata": {},
   "source": [
    "Ai Feynmann estimated as best fitting symbolic equation $-0.059618258747*(-((x1*x1)+(sqrt(x1)+1)))$ for F1 and $-0.059424679288+(x1*(sqrt(x1)*((-sqrt((x0+1)))+1)))$ for F2, where $x0 = x$ and $x1 = y$."
   ]
  },
  {
   "cell_type": "markdown",
   "metadata": {},
   "source": [
    "From the set of solutions, we select $0.895012887272*(x1*x0)$ for $F1$ and $0.796901691353*(x1*(-x0))$ for F2."
   ]
  },
  {
   "cell_type": "code",
   "execution_count": 3,
   "metadata": {},
   "outputs": [],
   "source": [
    "import math\n",
    "import torch\n",
    "import torch.nn as nn\n",
    "import matplotlib.pyplot as plt\n",
    "import numpy as np"
   ]
  },
  {
   "cell_type": "code",
   "execution_count": 73,
   "metadata": {},
   "outputs": [],
   "source": [
    "def expression_ai_feynann(x, y):\n",
    "    f1 = -0.059618258747*(-((y*y)+(torch.sqrt(y)+1)))\n",
    "    f2 = -0.059424679288+(y*(torch.sqrt(y)*((-torch.sqrt((x+1)))+1)))\n",
    "    return f1, f2\n",
    "\n",
    "def expression_ai_feynann_selected(x, y):\n",
    "    f1 = 0.895012887272*(y*x)\n",
    "    f2 = 0.796901691353*(y*(-x))\n",
    "    return f1, f2"
   ]
  },
  {
   "cell_type": "code",
   "execution_count": 74,
   "metadata": {},
   "outputs": [],
   "source": [
    "def plot_estimated():\n",
    "    DEVICE = torch.device(\"cuda\") if torch.cuda.is_available() else torch.device(\"cpu\")\n",
    "    upinn = U(1, 2, [64,64])\n",
    "    upinn.load_state_dict(torch.load(f\"../../upinn_models/LV/U_LV_exp2_sol_noise=0_space=0.1.pt\", map_location=DEVICE))\n",
    "    upinn.eval()\n",
    "\n",
    "    t = torch.linspace(0, 3, 1000).unsqueeze(1)\n",
    "    xy = upinn(t)\n",
    "    x, y = xy[:, 0].squeeze(), xy[:, 1].squeeze()\n",
    "\n",
    "    f1_correct, f2_correct = 0.9*x*y, -0.8*x*y\n",
    "\n",
    "    f1_ai, f2_ai = expression_ai_feynann(x, y)\n",
    "\n",
    "    f1_ai_selected, f2_ai_selected = expression_ai_feynann_selected(x, y)\n",
    "\n",
    "    ai_loss_1, ai_loss_2 = nn.MSELoss()(f1_correct, f1_ai).item(), nn.MSELoss()(f2_correct, f2_ai).item()\n",
    "\n",
    "    ai_selected_loss_1,  ai_selected_loss_2 = nn.MSELoss()(f1_correct, f1_ai_selected).item(), nn.MSELoss()(f2_correct, f2_ai_selected).item()\n",
    "\n",
    "    print(\"f1 MSE: {} {}\".format(ai_loss_1, ai_selected_loss_1))\n",
    "    print(\"f2 MSE: {} {}\".format(ai_loss_2, ai_selected_loss_2))\n",
    "\n",
    "    plt.plot(t, f1_correct.detach().numpy(), c='b', label='Correct equation', alpha=0.8, linewidth=0.8)\n",
    "    plt.plot(t, f2_correct.detach().numpy(), c='b', alpha=0.8, linewidth=0.8)\n",
    "    plt.plot(t, f1_ai.detach().numpy(), linestyle='--', c='r', label='Best AI Feynman equation', linewidth=0.7)\n",
    "    plt.plot(t, f2_ai.detach().numpy(), linestyle='--', c='r', linewidth=0.7)\n",
    "    plt.plot(t, f1_ai_selected.detach().numpy(), linestyle='-.', c='g', label='Selected equation', linewidth=0.9)\n",
    "    plt.plot(t, f2_ai_selected.detach().numpy(), linestyle='-.', c='g', linewidth=0.9)\n",
    "    plt.legend()\n",
    "    # plt.savefig('example_sol.pdf')\n",
    "    plt.show()\n"
   ]
  },
  {
   "cell_type": "code",
   "execution_count": 76,
   "metadata": {},
   "outputs": [
    {
     "name": "stdout",
     "output_type": "stream",
     "text": [
      "f1 MSE: 0.0024270322173833847 5.136605523148319e-06\n",
      "f2 MSE: 0.00495554693043232 1.9826070456474554e-06\n"
     ]
    },
    {
     "data": {
      "image/png": "[encoded data removed]",
      "text/plain": [
       "<Figure size 640x480 with 1 Axes>"
      ]
     },
     "metadata": {},
     "output_type": "display_data"
    }
   ],
   "source": [
    "plot_estimated()"
   ]
  },
  {
   "cell_type": "code",
   "execution_count": null,
   "metadata": {},
   "outputs": [],
   "source": []
  }
 ],
 "metadata": {
  "kernelspec": {
   "display_name": ".venv",
   "language": "python",
   "name": "python3"
  },
  "language_info": {
   "codemirror_mode": {
    "name": "ipython",
    "version": 3
   },
   "file_extension": ".py",
   "mimetype": "text/x-python",
   "name": "python",
   "nbconvert_exporter": "python",
   "pygments_lexer": "ipython3",
   "version": "3.9.6"
  }
 },
 "nbformat": 4,
 "nbformat_minor": 2
}
